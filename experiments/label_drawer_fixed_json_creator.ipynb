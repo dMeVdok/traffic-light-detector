{
  "nbformat": 4,
  "nbformat_minor": 0,
  "metadata": {
    "colab": {
      "name": "label drawer.ipynb",
      "provenance": [],
      "collapsed_sections": []
    },
    "kernelspec": {
      "name": "python3",
      "display_name": "Python 3"
    },
    "language_info": {
      "name": "python"
    }
  },
  "cells": [
    {
      "cell_type": "code",
      "metadata": {
        "id": "EaPh4K82_2UX"
      },
      "source": [
        "import torch\n",
        "import numpy as np\n",
        "import ffmpeg,subprocess\n",
        "from PIL import Image, ImageDraw"
      ],
      "execution_count": 1,
      "outputs": []
    },
    {
      "cell_type": "code",
      "metadata": {
        "id": "acDWv83We_tj"
      },
      "source": [
        "!pip install ffmpeg-python imageio"
      ],
      "execution_count": null,
      "outputs": []
    },
    {
      "cell_type": "code",
      "metadata": {
        "id": "84ks1EKpAIh8"
      },
      "source": [
        "def get_current_signal(bbox_tensor, image_size):\n",
        "  # bbox_tensor[N, [x1,x2,y1,y2,confdence,class]]\n",
        "  h,w = image_size\n",
        "  w_center = w/2\n",
        "  x_center = bbox_tensor[:,1] - bbox_tensor[:,0]\n",
        "  deltas = torch.abs(w_center-x_center) \n",
        "  min_delta, min_idx = torch.min(deltas,0)\n",
        "  return min_idx"
      ],
      "execution_count": 2,
      "outputs": []
    },
    {
      "cell_type": "code",
      "metadata": {
        "id": "4oHOuscNAzSz"
      },
      "source": [
        "{\"stop\": 0, \"warning\": 1, \"go\": 2, \"ambiguous\": 3}\n",
        "word_to_color = {\"stop\": \"red\", \"warning\": \"yellow\", \"go\": \"green\", \"ambiguous\": \"white\"}\n",
        "mapping = {0:\"stop\", 1:'warning', 2:'go', 3:'ambiguous'}\n",
        "\n",
        "def create_json(labels, image_size, path):\n",
        "  \"\"\"\n",
        "    labels_tensor : (N, 10, 5)\n",
        "    N - number of frames\n",
        "    10 - max number pf traffic signals\n",
        "    5 - number of label values\n",
        "    path : path to file\n",
        "  \"\"\"\n",
        "  dicts = []\n",
        "  for i, label_tensor in enumerate(labels):\n",
        "    frame_dict = {str(i):{}}\n",
        "    min_idx = get_current_signal(label_tensor, (256,256))\n",
        "    for j, labeled_frame in enumerate(label_tensor):\n",
        "      frame_dict[str(i)][str(j)]={}\n",
        "      frame_dict[str(i)][str(j)]['coords'] = list(np.array(labeled_frame[0:4].numpy(), dtype=int))\n",
        "      frame_dict[str(i)][str(j)]['state'] = mapping[labeled_frame[4].item()]\n",
        "      frame_dict[str(i)][str(j)]['affect'] = False\n",
        "      if j == min_idx:\n",
        "        frame_dict[str(i)][str(j)]['affect'] = True\n",
        "    dicts.append(frame_dict)\n",
        "  dict_str = \"\"\n",
        "  for d in dicts:\n",
        "      dict_str += str(d)+'\\n'\n",
        "  import json\n",
        "  with open(path, \"w\") as f:\n",
        "    json.dump(dict_str, f, indent=4, sort_keys=True)\n",
        "  print(dict_str)\n",
        "  return dicts"
      ],
      "execution_count": 3,
      "outputs": []
    },
    {
      "cell_type": "code",
      "metadata": {
        "colab": {
          "base_uri": "https://localhost:8080/"
        },
        "id": "a_oRFtyDBGTU",
        "outputId": "7f4579de-7c50-4bac-a105-a65993ab5b68"
      },
      "source": [
        "A = [\n",
        "     [[0,0,10,10,1],\n",
        "     [0,10,10,20,2],\n",
        "     [0,10,20,20,2],],\n",
        "     [[0,0,10,10,1],\n",
        "     [0,10,10,20,2],\n",
        "     [0,10,20,20,2],],\n",
        "     [[0,0,10,10,1],\n",
        "     [0,10,10,20,2],\n",
        "     [0,10,20,20,2],],\n",
        "     [[0,0,10,10,1],\n",
        "     [0,10,10,20,2],\n",
        "     [0,10,20,20,2],],\n",
        "     [[0,0,10,10,1],\n",
        "     [0,10,10,20,2],\n",
        "     [0,10,20,20,2],],\n",
        "     [[0,0,10,10,1],\n",
        "     [0,10,10,20,2],\n",
        "     [0,10,20,20,2],],\n",
        "     [[0,0,10,10,1],\n",
        "     [0,10,10,20,2],\n",
        "     [0,10,20,20,2],],\n",
        "     [[0,0,10,10,1],\n",
        "     [0,10,10,20,2],\n",
        "     [0,10,20,20,2],],\n",
        "     [[0,0,10,10,1],\n",
        "     [0,10,10,20,2],\n",
        "     [0,10,20,20,2],],\n",
        "     [[0,0,10,10,1],\n",
        "     [0,10,10,20,2],\n",
        "     [0,10,20,20,2],],\n",
        "     [[0,0,10,10,1],\n",
        "     [0,10,10,20,2],\n",
        "     [0,10,20,20,2],],\n",
        "     [[0,0,10,10,1],\n",
        "     [0,10,10,20,2],\n",
        "     [0,10,20,20,2],],\n",
        "     [[0,0,10,10,1],\n",
        "     [0,10,10,20,2],\n",
        "     [0,10,20,20,2],],\n",
        "     [[0,0,10,10,1],\n",
        "     [0,10,10,20,2],\n",
        "     [0,10,20,20,2],],\n",
        "     [[0,0,10,10,1],\n",
        "     [0,10,10,20,2],\n",
        "     [0,10,20,20,2],],\n",
        "     [[0,0,10,10,1],\n",
        "     [0,10,10,20,2],\n",
        "     [0,10,20,20,2],],\n",
        "     [[0,0,10,10,1],\n",
        "     [0,10,10,20,2],\n",
        "     [0,10,20,20,2],],\n",
        "     [[0,0,10,10,1],\n",
        "     [0,10,10,20,2],\n",
        "     [0,10,20,20,2],],\n",
        "     [[0,0,10,10,1],\n",
        "     [0,10,10,20,2],\n",
        "     [0,10,20,20,2],],\n",
        "]\n",
        "\n",
        "A = torch.Tensor(A)\n",
        "predict_path = 'jsoned.json'\n",
        "frame_labels = create_json(A, (256,256), predict_path)"
      ],
      "execution_count": 4,
      "outputs": [
        {
          "output_type": "stream",
          "text": [
            "{'0': {'0': {'coords': [0, 0, 10, 10], 'state': 'warning', 'affect': False}, '1': {'coords': [0, 10, 10, 20], 'state': 'go', 'affect': True}, '2': {'coords': [0, 10, 20, 20], 'state': 'go', 'affect': False}}}\n",
            "{'1': {'0': {'coords': [0, 0, 10, 10], 'state': 'warning', 'affect': False}, '1': {'coords': [0, 10, 10, 20], 'state': 'go', 'affect': True}, '2': {'coords': [0, 10, 20, 20], 'state': 'go', 'affect': False}}}\n",
            "{'2': {'0': {'coords': [0, 0, 10, 10], 'state': 'warning', 'affect': False}, '1': {'coords': [0, 10, 10, 20], 'state': 'go', 'affect': True}, '2': {'coords': [0, 10, 20, 20], 'state': 'go', 'affect': False}}}\n",
            "{'3': {'0': {'coords': [0, 0, 10, 10], 'state': 'warning', 'affect': False}, '1': {'coords': [0, 10, 10, 20], 'state': 'go', 'affect': True}, '2': {'coords': [0, 10, 20, 20], 'state': 'go', 'affect': False}}}\n",
            "{'4': {'0': {'coords': [0, 0, 10, 10], 'state': 'warning', 'affect': False}, '1': {'coords': [0, 10, 10, 20], 'state': 'go', 'affect': True}, '2': {'coords': [0, 10, 20, 20], 'state': 'go', 'affect': False}}}\n",
            "{'5': {'0': {'coords': [0, 0, 10, 10], 'state': 'warning', 'affect': False}, '1': {'coords': [0, 10, 10, 20], 'state': 'go', 'affect': True}, '2': {'coords': [0, 10, 20, 20], 'state': 'go', 'affect': False}}}\n",
            "{'6': {'0': {'coords': [0, 0, 10, 10], 'state': 'warning', 'affect': False}, '1': {'coords': [0, 10, 10, 20], 'state': 'go', 'affect': True}, '2': {'coords': [0, 10, 20, 20], 'state': 'go', 'affect': False}}}\n",
            "{'7': {'0': {'coords': [0, 0, 10, 10], 'state': 'warning', 'affect': False}, '1': {'coords': [0, 10, 10, 20], 'state': 'go', 'affect': True}, '2': {'coords': [0, 10, 20, 20], 'state': 'go', 'affect': False}}}\n",
            "{'8': {'0': {'coords': [0, 0, 10, 10], 'state': 'warning', 'affect': False}, '1': {'coords': [0, 10, 10, 20], 'state': 'go', 'affect': True}, '2': {'coords': [0, 10, 20, 20], 'state': 'go', 'affect': False}}}\n",
            "{'9': {'0': {'coords': [0, 0, 10, 10], 'state': 'warning', 'affect': False}, '1': {'coords': [0, 10, 10, 20], 'state': 'go', 'affect': True}, '2': {'coords': [0, 10, 20, 20], 'state': 'go', 'affect': False}}}\n",
            "{'10': {'0': {'coords': [0, 0, 10, 10], 'state': 'warning', 'affect': False}, '1': {'coords': [0, 10, 10, 20], 'state': 'go', 'affect': True}, '2': {'coords': [0, 10, 20, 20], 'state': 'go', 'affect': False}}}\n",
            "{'11': {'0': {'coords': [0, 0, 10, 10], 'state': 'warning', 'affect': False}, '1': {'coords': [0, 10, 10, 20], 'state': 'go', 'affect': True}, '2': {'coords': [0, 10, 20, 20], 'state': 'go', 'affect': False}}}\n",
            "{'12': {'0': {'coords': [0, 0, 10, 10], 'state': 'warning', 'affect': False}, '1': {'coords': [0, 10, 10, 20], 'state': 'go', 'affect': True}, '2': {'coords': [0, 10, 20, 20], 'state': 'go', 'affect': False}}}\n",
            "{'13': {'0': {'coords': [0, 0, 10, 10], 'state': 'warning', 'affect': False}, '1': {'coords': [0, 10, 10, 20], 'state': 'go', 'affect': True}, '2': {'coords': [0, 10, 20, 20], 'state': 'go', 'affect': False}}}\n",
            "{'14': {'0': {'coords': [0, 0, 10, 10], 'state': 'warning', 'affect': False}, '1': {'coords': [0, 10, 10, 20], 'state': 'go', 'affect': True}, '2': {'coords': [0, 10, 20, 20], 'state': 'go', 'affect': False}}}\n",
            "{'15': {'0': {'coords': [0, 0, 10, 10], 'state': 'warning', 'affect': False}, '1': {'coords': [0, 10, 10, 20], 'state': 'go', 'affect': True}, '2': {'coords': [0, 10, 20, 20], 'state': 'go', 'affect': False}}}\n",
            "{'16': {'0': {'coords': [0, 0, 10, 10], 'state': 'warning', 'affect': False}, '1': {'coords': [0, 10, 10, 20], 'state': 'go', 'affect': True}, '2': {'coords': [0, 10, 20, 20], 'state': 'go', 'affect': False}}}\n",
            "{'17': {'0': {'coords': [0, 0, 10, 10], 'state': 'warning', 'affect': False}, '1': {'coords': [0, 10, 10, 20], 'state': 'go', 'affect': True}, '2': {'coords': [0, 10, 20, 20], 'state': 'go', 'affect': False}}}\n",
            "{'18': {'0': {'coords': [0, 0, 10, 10], 'state': 'warning', 'affect': False}, '1': {'coords': [0, 10, 10, 20], 'state': 'go', 'affect': True}, '2': {'coords': [0, 10, 20, 20], 'state': 'go', 'affect': False}}}\n",
            "\n"
          ],
          "name": "stdout"
        }
      ]
    },
    {
      "cell_type": "code",
      "metadata": {
        "id": "lS1qDlYVb847"
      },
      "source": [
        "frame_labels_ = {}\n",
        "for i,d in enumerate(frame_labels):\n",
        "    frame_labels_[i] = d[str(i)]"
      ],
      "execution_count": 8,
      "outputs": []
    },
    {
      "cell_type": "code",
      "metadata": {
        "id": "B9YApg3vUUl_"
      },
      "source": [
        "video_file = 'video (10).avi'\n",
        "\n",
        "probe = ffmpeg.probe(video_file)\n",
        "video_info = next(s for s in probe['streams'] if s['codec_type'] == 'video')\n",
        "old_width = int(video_info['width'])\n",
        "old_height = int(video_info['height'])\n",
        "num_frames = int(eval(video_info['duration'])*eval(video_info['avg_frame_rate']))\n",
        "fps = eval(video_info['avg_frame_rate'])\n",
        "\n",
        "frame_size = old_width*old_height*3\n",
        "#print(frame_idx)\n",
        "process = (\n",
        "    ffmpeg\n",
        "    .input(video_file)\n",
        "    .filter('scale', old_width, old_height)\n",
        "    .output('pipe:', format='rawvideo', pix_fmt='rgb24')\n",
        "    .run_async(pipe_stdout=True)\n",
        ")\n",
        "\n",
        "for i in range(num_frames):\n",
        "    frame = (\n",
        "        np\n",
        "        .frombuffer(process.stdout.read(frame_size), np.uint8)\n",
        "        .reshape(old_height, old_width, 3)\n",
        "    )\n",
        "\n",
        "    frame = np.uint8(frame)\n",
        "    image = Image.fromarray(frame)\n",
        "\n",
        "    label = frame_labels_.get(i)\n",
        "    if label:\n",
        "        for traffic_light, state in label.items():\n",
        "            color = word_to_color[state['state']]\n",
        "            coords = state['coords']\n",
        "            \n",
        "            img1 = ImageDraw.Draw(image)  \n",
        "            img1.rectangle(coords, outline = color)\n",
        "    image.save(f\"sample_data/{i}.jpg\")\n",
        "subprocess.call([\"ffmpeg\",\"-y\",\"-r\",str(fps),\"-i\", \"sample_data/%d.jpg\",\"-vcodec\",\"mpeg4\", \"-qscale\",\"1\", \"-r\", str(fps), \"sample_data/video.avi\"])\n",
        "dir_name = \"sample_data/\"\n",
        "import os\n",
        "test = os.listdir(dir_name)\n",
        "\n",
        "for item in test:\n",
        "    if item.endswith(\".jpg\"):\n",
        "        os.remove(os.path.join(dir_name, item))"
      ],
      "execution_count": 17,
      "outputs": []
    }
  ]
}