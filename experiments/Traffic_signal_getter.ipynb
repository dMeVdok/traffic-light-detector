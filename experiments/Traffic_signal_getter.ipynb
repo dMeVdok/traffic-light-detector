{
  "nbformat": 4,
  "nbformat_minor": 0,
  "metadata": {
    "colab": {
      "name": "Traffic signal getter.ipynb",
      "provenance": [],
      "collapsed_sections": []
    },
    "kernelspec": {
      "name": "python3",
      "display_name": "Python 3"
    }
  },
  "cells": [
    {
      "cell_type": "code",
      "metadata": {
        "colab": {
          "base_uri": "https://localhost:8080/"
        },
        "id": "zUjlviZhXA81",
        "outputId": "b65cfe78-93a1-4bdd-96f2-6cf88d8d9c09"
      },
      "source": [
        "import torch\r\n",
        "\r\n",
        "def get_current_signal(bbox_tensor, image_size):\r\n",
        "  # bbox_tensor[N, [x1,x2,y1,y2,confdence,class]]\r\n",
        "  h,w = image_size\r\n",
        "  w_center = w/2\r\n",
        "  x_center = bbox_tensor[:,1] - bbox_tensor[:,0]\r\n",
        "  deltas = torch.abs(w_center-x_center) \r\n",
        "  min_delta, min_idx = torch.min(deltas,0)\r\n",
        "  return bbox_tensor[min_idx, 5]\r\n",
        "\r\n",
        "image_size = (256,256)\r\n",
        "t = torch.tensor([\r\n",
        "                  [0,10,0,10,0.5,1],\r\n",
        "                  [10,20,0,100,0.5,1],\r\n",
        "                  [120,136,120,136,0.8,2] # correct class\r\n",
        "])\r\n",
        "get_current_signal(t, image_size)"
      ],
      "execution_count": 4,
      "outputs": [
        {
          "output_type": "execute_result",
          "data": {
            "text/plain": [
              "tensor(2.)"
            ]
          },
          "metadata": {
            "tags": []
          },
          "execution_count": 4
        }
      ]
    }
  ]
}